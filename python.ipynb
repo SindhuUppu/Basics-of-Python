{
 "cells": [
  {
   "cell_type": "markdown",
   "id": "e462dbfc",
   "metadata": {},
   "source": [
    "### MY First Program"
   ]
  },
  {
   "cell_type": "code",
   "execution_count": 29,
   "id": "a9e9b420",
   "metadata": {},
   "outputs": [
    {
     "name": "stdout",
     "output_type": "stream",
     "text": [
      "hello world\n"
     ]
    }
   ],
   "source": [
    "print(\"hello world\")"
   ]
  },
  {
   "cell_type": "code",
   "execution_count": 30,
   "id": "a7eb7d59",
   "metadata": {},
   "outputs": [
    {
     "name": "stdout",
     "output_type": "stream",
     "text": [
      "U.Sindhu\n"
     ]
    }
   ],
   "source": [
    "print(\"U.Sindhu\")"
   ]
  },
  {
   "cell_type": "code",
   "execution_count": 31,
   "id": "97aa1e88",
   "metadata": {},
   "outputs": [
    {
     "ename": "NameError",
     "evalue": "name 'Print' is not defined",
     "output_type": "error",
     "traceback": [
      "\u001b[1;31m---------------------------------------------------------------------------\u001b[0m",
      "\u001b[1;31mNameError\u001b[0m                                 Traceback (most recent call last)",
      "Cell \u001b[1;32mIn[31], line 1\u001b[0m\n\u001b[1;32m----> 1\u001b[0m Print(\u001b[38;5;124m\"\u001b[39m\u001b[38;5;124mHello world\u001b[39m\u001b[38;5;124m\"\u001b[39m)\n",
      "\u001b[1;31mNameError\u001b[0m: name 'Print' is not defined"
     ]
    }
   ],
   "source": [
    "Print(\"Hello world\")"
   ]
  },
  {
   "cell_type": "markdown",
   "id": "33d1a5bb",
   "metadata": {},
   "source": [
    "### python is case sensitive"
   ]
  },
  {
   "cell_type": "code",
   "execution_count": null,
   "id": "f2b45c4e",
   "metadata": {},
   "outputs": [],
   "source": [
    "print(sindhu)"
   ]
  },
  {
   "cell_type": "markdown",
   "id": "b9817e9e",
   "metadata": {},
   "source": [
    "### string(text) should be in inverted commas"
   ]
  },
  {
   "cell_type": "code",
   "execution_count": null,
   "id": "5a3d964a",
   "metadata": {},
   "outputs": [],
   "source": [
    "print(1)"
   ]
  },
  {
   "cell_type": "code",
   "execution_count": null,
   "id": "334dae0b",
   "metadata": {},
   "outputs": [],
   "source": [
    "C"
   ]
  },
  {
   "cell_type": "markdown",
   "id": "66ac9e5d",
   "metadata": {},
   "source": [
    "### variables"
   ]
  },
  {
   "cell_type": "code",
   "execution_count": null,
   "id": "b98d5e13",
   "metadata": {},
   "outputs": [],
   "source": [
    "name=\"latha\"\n",
    "age=35\n",
    "income=1000"
   ]
  },
  {
   "cell_type": "code",
   "execution_count": null,
   "id": "2c704b24",
   "metadata": {},
   "outputs": [],
   "source": [
    "print(name)\n",
    "print(age)\n",
    "print(income)"
   ]
  },
  {
   "cell_type": "code",
   "execution_count": null,
   "id": "f0861efb",
   "metadata": {},
   "outputs": [],
   "source": [
    "namelist=\"sindhu\",\"vaishu\"\n",
    "namelist"
   ]
  },
  {
   "cell_type": "markdown",
   "id": "9124bbdb",
   "metadata": {},
   "source": [
    "### space is not allowed in variables"
   ]
  },
  {
   "cell_type": "code",
   "execution_count": null,
   "id": "54850be5",
   "metadata": {},
   "outputs": [],
   "source": [
    "name list=\"sindhu\",\"vaishu\"\n",
    "name list"
   ]
  },
  {
   "cell_type": "markdown",
   "id": "58064c40",
   "metadata": {},
   "source": [
    "### variable name should not start with a number"
   ]
  },
  {
   "cell_type": "code",
   "execution_count": null,
   "id": "b7ca57b9",
   "metadata": {},
   "outputs": [],
   "source": [
    "n2amelist=\"sindhu\",\"vaishu\"\n",
    "n2amelist"
   ]
  },
  {
   "cell_type": "code",
   "execution_count": null,
   "id": "c8ee4567",
   "metadata": {},
   "outputs": [],
   "source": [
    "name+list=\"sindhu\",\"vaishu\"\n",
    "name+list"
   ]
  },
  {
   "cell_type": "code",
   "execution_count": null,
   "id": "25a9b61a",
   "metadata": {},
   "outputs": [],
   "source": [
    "name_list=\"sindhu\",\"vaishu\"\n",
    "name_list\n"
   ]
  },
  {
   "cell_type": "markdown",
   "id": "0b4c890b",
   "metadata": {},
   "source": [
    "### the only allowed spl char is underscore"
   ]
  },
  {
   "cell_type": "markdown",
   "id": "e582c784",
   "metadata": {},
   "source": [
    "### variable name should start with A-Z or a-z and underscore"
   ]
  },
  {
   "cell_type": "markdown",
   "id": "587d8bda",
   "metadata": {},
   "source": [
    "### data types"
   ]
  },
  {
   "cell_type": "code",
   "execution_count": null,
   "id": "cc65fa89",
   "metadata": {},
   "outputs": [],
   "source": [
    "type(\"ai\")"
   ]
  },
  {
   "cell_type": "code",
   "execution_count": null,
   "id": "4e50f53b",
   "metadata": {},
   "outputs": [],
   "source": [
    "x=10\n",
    "type(x)"
   ]
  },
  {
   "cell_type": "code",
   "execution_count": null,
   "id": "694e3d22",
   "metadata": {},
   "outputs": [],
   "source": [
    "x=10.7\n",
    "\n",
    "type(x)"
   ]
  },
  {
   "cell_type": "code",
   "execution_count": null,
   "id": "90ea1fa7",
   "metadata": {},
   "outputs": [],
   "source": [
    "x=True\n",
    "type(x)"
   ]
  },
  {
   "cell_type": "code",
   "execution_count": null,
   "id": "9ba632a6",
   "metadata": {},
   "outputs": [],
   "source": [
    "x=False\n",
    "type(x)\n"
   ]
  },
  {
   "cell_type": "code",
   "execution_count": null,
   "id": "884bfcda",
   "metadata": {},
   "outputs": [],
   "source": [
    "x=true\n",
    "type(x)"
   ]
  },
  {
   "cell_type": "markdown",
   "id": "406f6f46",
   "metadata": {},
   "source": [
    "### python is case sensitive"
   ]
  },
  {
   "cell_type": "code",
   "execution_count": null,
   "id": "42630f33",
   "metadata": {},
   "outputs": [],
   "source": [
    "z=\"true\"\n",
    "type(z)"
   ]
  },
  {
   "cell_type": "markdown",
   "id": "5dd2b181",
   "metadata": {},
   "source": [
    "### list"
   ]
  },
  {
   "cell_type": "code",
   "execution_count": null,
   "id": "337c2179",
   "metadata": {},
   "outputs": [],
   "source": [
    "sample_list=[1,2,3,4,5,6,7,8,'hi',12, 11]\n",
    "sample_list\n"
   ]
  },
  {
   "cell_type": "code",
   "execution_count": null,
   "id": "580d7091",
   "metadata": {},
   "outputs": [],
   "source": [
    "type(sample_list)"
   ]
  },
  {
   "cell_type": "code",
   "execution_count": null,
   "id": "45555dda",
   "metadata": {},
   "outputs": [],
   "source": [
    "sample_list[-4]"
   ]
  },
  {
   "cell_type": "code",
   "execution_count": null,
   "id": "f4225779",
   "metadata": {},
   "outputs": [],
   "source": [
    "sample_list[11]"
   ]
  },
  {
   "cell_type": "code",
   "execution_count": null,
   "id": "3e749471",
   "metadata": {},
   "outputs": [],
   "source": [
    "sample_list[0]=100\n",
    "sample_list\n"
   ]
  },
  {
   "cell_type": "markdown",
   "id": "1ca8fe4a",
   "metadata": {},
   "source": [
    "### elements in the list should be seperated by commas and enclosed in square brackets"
   ]
  },
  {
   "cell_type": "markdown",
   "id": "eb8b576c",
   "metadata": {},
   "source": [
    "### list is heterogenous->multiple data types"
   ]
  },
  {
   "cell_type": "markdown",
   "id": "3fe96045",
   "metadata": {},
   "source": [
    "### it has duplicates and mutable means can make changes"
   ]
  },
  {
   "cell_type": "markdown",
   "id": "4c0eedc5",
   "metadata": {},
   "source": [
    "### TUPLE"
   ]
  },
  {
   "cell_type": "markdown",
   "id": "12d71e65",
   "metadata": {},
   "source": [
    "### container object\n",
    "### heterogenopus\n",
    "### can have duplicates\n",
    "### immutable\n",
    "### seperated by commas inside paranthesis"
   ]
  },
  {
   "cell_type": "code",
   "execution_count": null,
   "id": "75a38c31",
   "metadata": {},
   "outputs": [],
   "source": [
    "sample_tuple=(1,6,2.3,8.3,\"hi\")\n",
    "sample_tuple"
   ]
  },
  {
   "cell_type": "code",
   "execution_count": null,
   "id": "5f6d0a8f",
   "metadata": {},
   "outputs": [],
   "source": [
    "type(sample_tuple)\n"
   ]
  },
  {
   "cell_type": "code",
   "execution_count": null,
   "id": "bd02a37b",
   "metadata": {},
   "outputs": [],
   "source": [
    "sample_tuple2=1,6,2.3,8.3,\"hi\"\n",
    "sample_tuple2"
   ]
  },
  {
   "cell_type": "code",
   "execution_count": null,
   "id": "8e83b391",
   "metadata": {},
   "outputs": [],
   "source": [
    "type(sample_tuple2)"
   ]
  },
  {
   "cell_type": "code",
   "execution_count": null,
   "id": "e3ce2790",
   "metadata": {},
   "outputs": [],
   "source": [
    "print(sample_tuple)\n",
    "print(sample_tuple2)"
   ]
  },
  {
   "cell_type": "code",
   "execution_count": null,
   "id": "5e3bd989",
   "metadata": {},
   "outputs": [],
   "source": [
    "sample_tuple[1]"
   ]
  },
  {
   "cell_type": "code",
   "execution_count": null,
   "id": "2fdc4250",
   "metadata": {},
   "outputs": [],
   "source": [
    "sample_tuple[10]"
   ]
  },
  {
   "cell_type": "code",
   "execution_count": null,
   "id": "57504b2f",
   "metadata": {},
   "outputs": [],
   "source": [
    "sample_tuple2\n"
   ]
  },
  {
   "cell_type": "code",
   "execution_count": null,
   "id": "a1b9c1f3",
   "metadata": {},
   "outputs": [],
   "source": [
    "sample_tuple"
   ]
  },
  {
   "cell_type": "code",
   "execution_count": null,
   "id": "54321595",
   "metadata": {},
   "outputs": [],
   "source": [
    "sample_tuple[-5]"
   ]
  },
  {
   "cell_type": "code",
   "execution_count": null,
   "id": "de16a477",
   "metadata": {},
   "outputs": [],
   "source": [
    "sample_tuple[1]=100"
   ]
  },
  {
   "cell_type": "markdown",
   "id": "19b00c66",
   "metadata": {},
   "source": [
    "### SETS"
   ]
  },
  {
   "cell_type": "code",
   "execution_count": null,
   "id": "a99f200e",
   "metadata": {},
   "outputs": [],
   "source": [
    "sample_set={1,2,3,4,5,1,13.4,9.6,\"hi\",\"hello\",\"ds\",-1,11.4,21.5}"
   ]
  },
  {
   "cell_type": "code",
   "execution_count": null,
   "id": "ce332125",
   "metadata": {},
   "outputs": [],
   "source": [
    "sample_set"
   ]
  },
  {
   "cell_type": "code",
   "execution_count": null,
   "id": "ce6812e6",
   "metadata": {},
   "outputs": [],
   "source": [
    "sample_set[0]"
   ]
  },
  {
   "cell_type": "code",
   "execution_count": null,
   "id": "7f1869de",
   "metadata": {},
   "outputs": [],
   "source": [
    "sample_set[0]=1"
   ]
  },
  {
   "cell_type": "code",
   "execution_count": null,
   "id": "0626e386",
   "metadata": {},
   "outputs": [],
   "source": [
    "sample_set.add(\"sindhu\")\n",
    "sample_set"
   ]
  },
  {
   "cell_type": "code",
   "execution_count": null,
   "id": "4f1f6d97",
   "metadata": {},
   "outputs": [],
   "source": [
    "sample_set.remove(-1)\n",
    "sample_set"
   ]
  },
  {
   "cell_type": "markdown",
   "id": "5ab59d60",
   "metadata": {},
   "source": [
    "### set does not allow duplicates\n",
    "### we cannot retrieve the set using index\n",
    "### set is mutable\n",
    "### set has{}\n",
    "### ordered first place"
   ]
  },
  {
   "cell_type": "markdown",
   "id": "fdbb8162",
   "metadata": {},
   "source": [
    "### DICTIONARY"
   ]
  },
  {
   "cell_type": "markdown",
   "id": "d2002b2a",
   "metadata": {},
   "source": [
    "### key value pair\n",
    "### {}\n",
    "### indexing square brackets\n",
    "### mutable"
   ]
  },
  {
   "cell_type": "code",
   "execution_count": null,
   "id": "c3b179d5",
   "metadata": {},
   "outputs": [],
   "source": [
    "dict_1={'name':\"sindhu\",'hobbies':[\"reading\",\"singing\",\"cooking\"],1:23}\n",
    "dict_1"
   ]
  },
  {
   "cell_type": "code",
   "execution_count": null,
   "id": "f7461f08",
   "metadata": {},
   "outputs": [],
   "source": [
    "dict_1[keys]"
   ]
  },
  {
   "cell_type": "code",
   "execution_count": null,
   "id": "0e8e7468",
   "metadata": {},
   "outputs": [],
   "source": [
    "dict_1.keys()\n"
   ]
  },
  {
   "cell_type": "code",
   "execution_count": null,
   "id": "482b908d",
   "metadata": {},
   "outputs": [],
   "source": [
    "dict_1.values()"
   ]
  },
  {
   "cell_type": "code",
   "execution_count": 34,
   "id": "15e8e6f7",
   "metadata": {},
   "outputs": [
    {
     "data": {
      "text/plain": [
       "{'hobbies': ['reading', 'painting', 'cooking'],\n",
       " 1: 23,\n",
       " 'class': 'ds',\n",
       " 'name': 'vaishu'}"
      ]
     },
     "execution_count": 34,
     "metadata": {},
     "output_type": "execute_result"
    }
   ],
   "source": [
    "dict_1['name']=\"vaishu\"\n",
    "dict_1"
   ]
  },
  {
   "cell_type": "code",
   "execution_count": null,
   "id": "a3b785f8",
   "metadata": {},
   "outputs": [],
   "source": [
    "dict_1['hobbies']=[\"reading\",\"painting\",\"cooking\"]\n",
    "dict_1"
   ]
  },
  {
   "cell_type": "code",
   "execution_count": 35,
   "id": "e6632091",
   "metadata": {},
   "outputs": [
    {
     "data": {
      "text/plain": [
       "{'hobbies': ['reading', 'painting', 'cooking'],\n",
       " 1: 23,\n",
       " 'class': 'ds',\n",
       " 'name': 'vaishu'}"
      ]
     },
     "execution_count": 35,
     "metadata": {},
     "output_type": "execute_result"
    }
   ],
   "source": [
    "### add a new key and value\n",
    "dict_1.update({'class':\"ds\"})\n",
    "dict_1"
   ]
  },
  {
   "cell_type": "code",
   "execution_count": 36,
   "id": "80bf04a8",
   "metadata": {},
   "outputs": [
    {
     "data": {
      "text/plain": [
       "{'hobbies': ['reading', 'painting', 'cooking'], 1: 23, 'class': 'ds'}"
      ]
     },
     "execution_count": 36,
     "metadata": {},
     "output_type": "execute_result"
    }
   ],
   "source": [
    "del dict_1[\"name\"]\n",
    "dict_1"
   ]
  }
 ],
 "metadata": {
  "kernelspec": {
   "display_name": "Python 3 (ipykernel)",
   "language": "python",
   "name": "python3"
  },
  "language_info": {
   "codemirror_mode": {
    "name": "ipython",
    "version": 3
   },
   "file_extension": ".py",
   "mimetype": "text/x-python",
   "name": "python",
   "nbconvert_exporter": "python",
   "pygments_lexer": "ipython3",
   "version": "3.11.4"
  }
 },
 "nbformat": 4,
 "nbformat_minor": 5
}
